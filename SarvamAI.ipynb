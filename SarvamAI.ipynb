{
  "nbformat": 4,
  "nbformat_minor": 0,
  "metadata": {
    "colab": {
      "provenance": []
    },
    "kernelspec": {
      "name": "python3",
      "display_name": "Python 3"
    },
    "language_info": {
      "name": "python"
    }
  },
  "cells": [
    {
      "cell_type": "markdown",
      "source": [
        "### Sarvam Research Fellowship\n",
        "\n",
        "Assignment - Implement Einops from Scratch\n",
        "\n",
        "---\n",
        "\n",
        "Aditya Raj\n",
        "\n",
        "\\\\\n",
        "\n",
        "[Email](mailto:hexronus@gmail.com) - hexronus@gmail.com \\\\\n",
        "[Portfolio](https://hexronus.vercel.app/) - https://hexronus.vercel.app \\\\\n",
        "[LinkedIn](https://www.linkedin.com/in/hexronus/) - https://www.linkedin.com/in/hexronus/"
      ],
      "metadata": {
        "id": "Bb0BETgl_Jok"
      }
    },
    {
      "cell_type": "markdown",
      "source": [
        "**Task**\n",
        "\n",
        "Summary:\n",
        "\n",
        "We have to implement the `einops.rearrange` function from scratch, and it has to be called as,\n",
        "\n",
        "```python\n",
        "def rearrange(tensor: np.ndarray, pattern: str, **axes_lengths) -> np.ndarray:\n",
        "```\n",
        "\n",
        "More specifically, we have to implement,\n",
        "\n",
        "*   Reshaping\n",
        "*   Transposition\n",
        "*   Splitting of axes\n",
        "*   Merging of axes\n",
        "*   Repeating of axes\n",
        "\n",
        "With parsing, error logs and faster performance(using some process).\n",
        "\n",
        "\n",
        "\n",
        "\\\\\n",
        "\n",
        "---\n",
        "\n",
        "\\\\\n",
        "\n",
        "\n",
        "\n",
        "Proposed Approach\n",
        "\n",
        "*   Numba with parallel execution for JIT-Compiler for small Numpy Values\n",
        "*   C++([Eigen](https://eigen.tuxfamily.org/index.php?title=Main_Page)) for non-trivial indexing and reordering"
      ],
      "metadata": {
        "id": "Jxs5I_dJC385"
      }
    },
    {
      "cell_type": "markdown",
      "source": [
        "**Current Implementation**\n",
        "\n",
        "Supports Eigen(C++) for indexing and reordering, Numba is work in progress, with this the proposed work is 1.53 times faster than the einops library on average runtime."
      ],
      "metadata": {
        "id": "mXcaz039tf91"
      }
    },
    {
      "cell_type": "markdown",
      "source": [
        "# Performance Comparison: Custom Eigen-Based Rearrange vs. Einops\n",
        "\n",
        "## Overview\n",
        " Evaluating a custom tensor rearrangement implementation, built using the Eigen library with a C++ backend and Pybind11 interface, against the popular `einops` library across 15 test cases. The custom solution outperforms `einops` in six tests, with speedups of **1.43x to 4.81x**, excelling in:\n",
        "- **Basic 2D/3D transpositions** (e.g., 4.81x in Test 2)\n",
        "- **Non-contiguous memory** (2.46x in Test 10)\n",
        "- **Complex numbers** (1.43x in Test 11)\n",
        "\n",
        "On **Average Runtime** for all 15 test cases, our custom model surpasses the original by `1.53x`.\n",
        "\n",
        "Conversely, `einops` surpasses the custom implementation in nine tests, particularly in high-dimensional tensors and edge cases (e.g., 3.62x faster in Test 5 with empty dimensions). On average, the custom approach is **22.14% faster** (0.0000971s vs. 0.0001186s), highlighting its edge in specific scenarios.\n",
        "\n",
        "The custom `rearrange` leverages Eigen’s `Tensor<float, 10>` for direct C++ execution, parsing patterns into permutations and shapes with minimal Python overhead. Its speed stems from:\n",
        "- **Optimized memory access**: Eigen’s `shuffle` and `reshape` efficiently handle strides, boosting performance in simpler rearrangements and non-contiguous memory.\n",
        "- **Low overhead**: Bypassing `einops`’s dynamic parsing and NumPy reliance reduces latency.\n",
        "\n",
        "However, `einops` shines in scalability and flexibility, outperforming in complex, high-dimensional cases. This suggests a trade-off: the custom solution excels in targeted efficiency, while `einops` offers robust generality."
      ],
      "metadata": {
        "id": "ejXiVx_svisa"
      }
    },
    {
      "cell_type": "code",
      "source": [
        "!gdown 1fG1dP8nkdjj9RmQiXeJDGaLUGHMh81DJ"
      ],
      "metadata": {
        "colab": {
          "base_uri": "https://localhost:8080/"
        },
        "id": "aXSpIjbtWzCP",
        "outputId": "11742e55-83b5-43e9-c697-29b29d58ee80"
      },
      "execution_count": 1,
      "outputs": [
        {
          "output_type": "stream",
          "name": "stdout",
          "text": [
            "Downloading...\n",
            "From: https://drive.google.com/uc?id=1fG1dP8nkdjj9RmQiXeJDGaLUGHMh81DJ\n",
            "To: /content/rearrange.zip\n",
            "\r  0% 0.00/6.56M [00:00<?, ?B/s]\r 72% 4.72M/6.56M [00:00<00:00, 22.6MB/s]\r100% 6.56M/6.56M [00:00<00:00, 30.2MB/s]\n"
          ]
        }
      ]
    },
    {
      "cell_type": "code",
      "source": [
        "!unzip rearrange.zip -d ."
      ],
      "metadata": {
        "colab": {
          "base_uri": "https://localhost:8080/"
        },
        "id": "OPok_ObZPxTm",
        "outputId": "86a8faf4-3db7-43fa-8636-f27aefa534d6"
      },
      "execution_count": 2,
      "outputs": [
        {
          "output_type": "stream",
          "name": "stdout",
          "text": [
            "Archive:  rearrange.zip\n",
            "   creating: ./rearrange/\n",
            "   creating: ./rearrange/build/\n",
            "   creating: ./rearrange/build/lib.linux-x86_64-cpython-311/\n",
            "   creating: ./rearrange/build/lib.linux-x86_64-cpython-311/rearrange/\n",
            "  inflating: ./rearrange/build/lib.linux-x86_64-cpython-311/rearrange/eigen_backend.cpython-311-x86_64-linux-gnu.so  \n",
            "   creating: ./rearrange/build/temp.linux-x86_64-cpython-311/\n",
            "  inflating: ./rearrange/build/temp.linux-x86_64-cpython-311/eigen_backend.o  \n",
            "  inflating: ./rearrange/core.py     \n",
            "  inflating: ./rearrange/cuda_backend.py  \n",
            "  inflating: ./rearrange/eigen_backend.cpp  \n",
            "  inflating: ./rearrange/eigen_backend.cpython-311-x86_64-linux-gnu.so  \n",
            "  inflating: ./rearrange/eigen_backend_wrapper.py  \n",
            "  inflating: ./rearrange/numba_backend.py  \n",
            "  inflating: ./rearrange/parser.py   \n",
            "  inflating: ./rearrange/setup.py    \n",
            "  inflating: ./rearrange/__init__.py  \n",
            "   creating: ./rearrange/__pycache__/\n",
            "  inflating: ./rearrange/__pycache__/core.cpython-311.pyc  \n",
            "  inflating: ./rearrange/__pycache__/eigen_backend_wrapper.cpython-311.pyc  \n",
            "  inflating: ./rearrange/__pycache__/numba_backend.cpython-311.pyc  \n",
            "  inflating: ./rearrange/__pycache__/parser.cpython-311.pyc  \n",
            "  inflating: ./rearrange/__pycache__/__init__.cpython-311.pyc  \n"
          ]
        }
      ]
    },
    {
      "cell_type": "code",
      "source": [
        "!pip install pybind11"
      ],
      "metadata": {
        "colab": {
          "base_uri": "https://localhost:8080/"
        },
        "id": "i0rkkG9IPxW9",
        "outputId": "18ce20ba-ea5b-4400-a77d-72611f517ddb"
      },
      "execution_count": 3,
      "outputs": [
        {
          "output_type": "stream",
          "name": "stdout",
          "text": [
            "Collecting pybind11\n",
            "  Downloading pybind11-2.13.6-py3-none-any.whl.metadata (9.5 kB)\n",
            "Downloading pybind11-2.13.6-py3-none-any.whl (243 kB)\n",
            "\u001b[?25l   \u001b[90m━━━━━━━━━━━━━━━━━━━━━━━━━━━━━━━━━━━━━━━━\u001b[0m \u001b[32m0.0/243.3 kB\u001b[0m \u001b[31m?\u001b[0m eta \u001b[36m-:--:--\u001b[0m\r\u001b[2K   \u001b[91m━━━━━━━━━━━━━━━━\u001b[0m\u001b[91m╸\u001b[0m\u001b[90m━━━━━━━━━━━━━━━━━━━━━━━\u001b[0m \u001b[32m102.4/243.3 kB\u001b[0m \u001b[31m3.1 MB/s\u001b[0m eta \u001b[36m0:00:01\u001b[0m\r\u001b[2K   \u001b[90m━━━━━━━━━━━━━━━━━━━━━━━━━━━━━━━━━━━━━━━━\u001b[0m \u001b[32m243.3/243.3 kB\u001b[0m \u001b[31m3.8 MB/s\u001b[0m eta \u001b[36m0:00:00\u001b[0m\n",
            "\u001b[?25hInstalling collected packages: pybind11\n",
            "Successfully installed pybind11-2.13.6\n"
          ]
        }
      ]
    },
    {
      "cell_type": "code",
      "source": [
        "!sudo apt-get install libeigen3-dev"
      ],
      "metadata": {
        "colab": {
          "base_uri": "https://localhost:8080/"
        },
        "id": "3VaqLOgzsYqC",
        "outputId": "40b6fa07-3bdb-44a0-f4a0-1cb329a74a6c"
      },
      "execution_count": 4,
      "outputs": [
        {
          "output_type": "stream",
          "name": "stdout",
          "text": [
            "Reading package lists... Done\n",
            "Building dependency tree... Done\n",
            "Reading state information... Done\n",
            "Suggested packages:\n",
            "  libeigen3-doc libmpfrc++-dev\n",
            "The following NEW packages will be installed:\n",
            "  libeigen3-dev\n",
            "0 upgraded, 1 newly installed, 0 to remove and 30 not upgraded.\n",
            "Need to get 1,056 kB of archives.\n",
            "After this operation, 9,081 kB of additional disk space will be used.\n",
            "Get:1 http://archive.ubuntu.com/ubuntu jammy/universe amd64 libeigen3-dev all 3.4.0-2ubuntu2 [1,056 kB]\n",
            "Fetched 1,056 kB in 1s (1,267 kB/s)\n",
            "debconf: unable to initialize frontend: Dialog\n",
            "debconf: (No usable dialog-like program is installed, so the dialog based frontend cannot be used. at /usr/share/perl5/Debconf/FrontEnd/Dialog.pm line 78, <> line 1.)\n",
            "debconf: falling back to frontend: Readline\n",
            "debconf: unable to initialize frontend: Readline\n",
            "debconf: (This frontend requires a controlling tty.)\n",
            "debconf: falling back to frontend: Teletype\n",
            "dpkg-preconfigure: unable to re-open stdin: \n",
            "Selecting previously unselected package libeigen3-dev.\n",
            "(Reading database ... 126213 files and directories currently installed.)\n",
            "Preparing to unpack .../libeigen3-dev_3.4.0-2ubuntu2_all.deb ...\n",
            "Unpacking libeigen3-dev (3.4.0-2ubuntu2) ...\n",
            "Setting up libeigen3-dev (3.4.0-2ubuntu2) ...\n"
          ]
        }
      ]
    },
    {
      "cell_type": "code",
      "source": [
        "%cd rearrange/"
      ],
      "metadata": {
        "id": "y-ny12ivpWzd",
        "colab": {
          "base_uri": "https://localhost:8080/"
        },
        "outputId": "5d1faf60-4233-492a-b441-80b656ca1b51"
      },
      "execution_count": 5,
      "outputs": [
        {
          "output_type": "stream",
          "name": "stdout",
          "text": [
            "/content/rearrange\n"
          ]
        }
      ]
    },
    {
      "cell_type": "code",
      "source": [
        "!python setup.py build_ext --inplace"
      ],
      "metadata": {
        "colab": {
          "base_uri": "https://localhost:8080/"
        },
        "id": "vEAJqdX4sfwU",
        "outputId": "522303c9-0dfb-4975-d0d0-f23891610169"
      },
      "execution_count": 6,
      "outputs": [
        {
          "output_type": "stream",
          "name": "stdout",
          "text": [
            "running build_ext\n"
          ]
        }
      ]
    },
    {
      "cell_type": "markdown",
      "source": [
        "if this does not run `!python setup.py build_ext --inplace`, delete `eigen_backend.cpython-311-x86_64-linux-gnu.so`, and run again"
      ],
      "metadata": {
        "id": "NaHnMu9vNBIN"
      }
    },
    {
      "cell_type": "code",
      "source": [
        "!ls"
      ],
      "metadata": {
        "colab": {
          "base_uri": "https://localhost:8080/"
        },
        "id": "AfSnWNFyfogU",
        "outputId": "8facfe31-1d96-4cd9-da6d-9e2c6895533b"
      },
      "execution_count": 7,
      "outputs": [
        {
          "output_type": "stream",
          "name": "stdout",
          "text": [
            "build\t\t eigen_backend.cpp\t\t\t\t__init__.py\t  __pycache__\n",
            "core.py\t\t eigen_backend.cpython-311-x86_64-linux-gnu.so\tnumba_backend.py  setup.py\n",
            "cuda_backend.py  eigen_backend_wrapper.py\t\t\tparser.py\n"
          ]
        }
      ]
    },
    {
      "cell_type": "code",
      "source": [
        "%cd .."
      ],
      "metadata": {
        "id": "FTmMgDJjpY3B",
        "colab": {
          "base_uri": "https://localhost:8080/"
        },
        "outputId": "2f5a26dc-9d62-4695-d3cb-89839e4b1418"
      },
      "execution_count": 8,
      "outputs": [
        {
          "output_type": "stream",
          "name": "stdout",
          "text": [
            "/content\n"
          ]
        }
      ]
    },
    {
      "cell_type": "code",
      "source": [
        "#download the tests.py file\n",
        "!gdown 1Bv5XDrHLh0SnFMMjiUM7_WOGXPwPwFt4"
      ],
      "metadata": {
        "colab": {
          "base_uri": "https://localhost:8080/"
        },
        "id": "XQduKFCyiXZ9",
        "outputId": "ee23f85e-e201-44d8-a979-88588d9451e2"
      },
      "execution_count": 9,
      "outputs": [
        {
          "output_type": "stream",
          "name": "stdout",
          "text": [
            "Downloading...\n",
            "From (original): https://drive.google.com/uc?id=1Bv5XDrHLh0SnFMMjiUM7_WOGXPwPwFt4\n",
            "From (redirected): https://drive.google.com/uc?id=1Bv5XDrHLh0SnFMMjiUM7_WOGXPwPwFt4&confirm=t&uuid=a570f679-d264-4436-b8c6-a2801202113a\n",
            "To: /content/tests.py\n",
            "\r  0% 0.00/7.34k [00:00<?, ?B/s]\r100% 7.34k/7.34k [00:00<00:00, 23.7MB/s]\n"
          ]
        }
      ]
    },
    {
      "cell_type": "code",
      "source": [
        "!python tests.py"
      ],
      "metadata": {
        "colab": {
          "base_uri": "https://localhost:8080/"
        },
        "id": "ajdovm7BqAvD",
        "outputId": "c86e16e5-81a1-4a6e-aeae-35793a1afc4a"
      },
      "execution_count": 11,
      "outputs": [
        {
          "output_type": "stream",
          "name": "stdout",
          "text": [
            "\u001b[1m======================================= test session starts ========================================\u001b[0m\n",
            "platform linux -- Python 3.11.11, pytest-8.3.5, pluggy-1.5.0 -- /usr/bin/python3\n",
            "cachedir: .pytest_cache\n",
            "rootdir: /content\n",
            "plugins: typeguard-4.4.2, anyio-4.9.0, langsmith-0.3.22\n",
            "\u001b[1mcollecting ... \u001b[0m\u001b[1m\rcollected 34 items                                                                                 \u001b[0m\n",
            "\n",
            "tests.py::test_rearrange_basic_group_split \u001b[32mPASSED\u001b[0m\u001b[32m                                            [  2%]\u001b[0m\n",
            "tests.py::test_rearrange_fully_specified_group \u001b[32mPASSED\u001b[0m\u001b[32m                                        [  5%]\u001b[0m\n",
            "tests.py::test_rearrange_invalid_group_size \u001b[32mPASSED\u001b[0m\u001b[32m                                           [  8%]\u001b[0m\n",
            "tests.py::test_rearrange_too_many_unknowns \u001b[32mPASSED\u001b[0m\u001b[32m                                            [ 11%]\u001b[0m\n",
            "tests.py::test_rearrange_ellipsis_basic \u001b[32mPASSED\u001b[0m\u001b[32m                                               [ 14%]\u001b[0m\n",
            "tests.py::test_rearrange_ellipsis_with_group \u001b[32mPASSED\u001b[0m\u001b[32m                                          [ 17%]\u001b[0m\n",
            "tests.py::test_rearrange_singleton_axis \u001b[32mPASSED\u001b[0m\u001b[32m                                               [ 20%]\u001b[0m\n",
            "tests.py::test_rearrange_invalid_singleton \u001b[32mPASSED\u001b[0m\u001b[32m                                            [ 23%]\u001b[0m\n",
            "tests.py::test_rearrange_empty_tensor \u001b[32mPASSED\u001b[0m\u001b[32m                                                 [ 26%]\u001b[0m\n",
            "tests.py::test_rearrange_complex_numbers \u001b[32mPASSED\u001b[0m\u001b[32m                                              [ 29%]\u001b[0m\n",
            "tests.py::test_rearrange_non_contiguous_memory \u001b[32mPASSED\u001b[0m\u001b[32m                                        [ 32%]\u001b[0m\n",
            "tests.py::test_rearrange_large_dimensions \u001b[32mPASSED\u001b[0m\u001b[32m                                             [ 35%]\u001b[0m\n",
            "tests.py::test_rearrange_full_flattening \u001b[32mPASSED\u001b[0m\u001b[32m                                              [ 38%]\u001b[0m\n",
            "tests.py::test_rearrange_adding_singleton \u001b[32mPASSED\u001b[0m\u001b[32m                                             [ 41%]\u001b[0m\n",
            "tests.py::test_rearrange_asymmetric_flatten \u001b[32mPASSED\u001b[0m\u001b[32m                                           [ 44%]\u001b[0m\n",
            "tests.py::test_rearrange_no_op \u001b[32mPASSED\u001b[0m\u001b[32m                                                        [ 47%]\u001b[0m\n",
            "tests.py::test_rearrange_high_dimensional \u001b[32mPASSED\u001b[0m\u001b[32m                                             [ 50%]\u001b[0m\n",
            "tests.py::test_rearrange_reverse_ellipsis \u001b[32mPASSED\u001b[0m\u001b[32m                                             [ 52%]\u001b[0m\n",
            "tests.py::test_rearrange_nested_groups \u001b[32mPASSED\u001b[0m\u001b[32m                                                [ 55%]\u001b[0m\n",
            "tests.py::test_rearrange_multiple_singletons_and_inference \u001b[32mPASSED\u001b[0m\u001b[32m                            [ 58%]\u001b[0m\n",
            "tests.py::test_rearrange_mixed_numbers_and_named_dims \u001b[32mPASSED\u001b[0m\u001b[32m                                 [ 61%]\u001b[0m\n",
            "tests.py::test_rearrange_repeated_variable_names \u001b[32mPASSED\u001b[0m\u001b[32m                                      [ 64%]\u001b[0m\n",
            "tests.py::test_rearrange_dtype_preservation_int \u001b[32mPASSED\u001b[0m\u001b[32m                                       [ 67%]\u001b[0m\n",
            "tests.py::test_rearrange_transpose_high_dim \u001b[32mPASSED\u001b[0m\u001b[32m                                           [ 70%]\u001b[0m\n",
            "tests.py::test_rearrange_broadcast_and_squeeze \u001b[32mPASSED\u001b[0m\u001b[32m                                        [ 73%]\u001b[0m\n",
            "tests.py::test_deep_nested_inference \u001b[32mPASSED\u001b[0m\u001b[32m                                                  [ 76%]\u001b[0m\n",
            "tests.py::test_complex_ellipsis_squeeze_expand \u001b[32mPASSED\u001b[0m\u001b[32m                                        [ 79%]\u001b[0m\n",
            "tests.py::test_overlapping_groups_disallowed \u001b[32mPASSED\u001b[0m\u001b[32m                                          [ 82%]\u001b[0m\n",
            "tests.py::test_redundant_identity_transform \u001b[32mPASSED\u001b[0m\u001b[32m                                           [ 85%]\u001b[0m\n",
            "tests.py::test_reuse_in_output_only \u001b[32mPASSED\u001b[0m\u001b[32m                                                   [ 88%]\u001b[0m\n",
            "tests.py::test_multiple_ellipsis_fails \u001b[32mPASSED\u001b[0m\u001b[32m                                                [ 91%]\u001b[0m\n",
            "tests.py::test_flatten_and_unflatten_mixed_order \u001b[32mPASSED\u001b[0m\u001b[32m                                      [ 94%]\u001b[0m\n",
            "tests.py::test_high_dim_mixed_ellipsis_and_named \u001b[32mPASSED\u001b[0m\u001b[32m                                      [ 97%]\u001b[0m\n",
            "tests.py::test_large_dim_with_broadcast_singleton \u001b[32mPASSED\u001b[0m\u001b[32m                                     [100%]\u001b[0m\n",
            "\n",
            "\u001b[32m======================================== \u001b[32m\u001b[1m34 passed\u001b[0m\u001b[32m in 0.05s\u001b[0m\u001b[32m ========================================\u001b[0m\n"
          ]
        }
      ]
    },
    {
      "cell_type": "markdown",
      "source": [
        "0.0014s to run a single test on average."
      ],
      "metadata": {
        "id": "8HtDEbFvGqaD"
      }
    },
    {
      "cell_type": "markdown",
      "source": [
        "Custom Testing as mentioned in docs as submission guidelines,\n",
        "\n",
        "**Include separate cells with your unit tests**"
      ],
      "metadata": {
        "id": "2aMPYVSZoVK4"
      }
    },
    {
      "cell_type": "code",
      "source": [
        "import numpy as np\n",
        "from einops import rearrange as einops_rearrange\n",
        "from rearrange import rearrange as custom_rearrange\n",
        "import pytest\n",
        "from tabulate import tabulate\n",
        "\n",
        "def test_basic_group_split(rearrange_impl):\n",
        "    x = np.random.rand(12, 10)\n",
        "    result = rearrange_impl(x, '(h w) c -> h w c', h=3)\n",
        "    return result.shape\n",
        "\n",
        "def test_ellipsis_with_group(rearrange_impl):\n",
        "    x = np.random.rand(2, 12, 10)\n",
        "    result = rearrange_impl(x, 'b (h w) c -> b h w c', h=3)\n",
        "    return result.shape\n",
        "\n",
        "def test_high_dimensional(rearrange_impl):\n",
        "    x = np.random.rand(2, 3, 4, 5, 6)\n",
        "    result = rearrange_impl(x, 'a b c d e -> e (d c b a)')\n",
        "    return result.shape\n",
        "\n",
        "def test_fully_specified(rearrange_impl):\n",
        "    x = np.random.rand(12, 10)\n",
        "    result = rearrange_impl(x, '(h w) c -> h w c', h=3, w=4)\n",
        "    return result.shape\n",
        "\n",
        "def test_ellipsis_basic(rearrange_impl):\n",
        "    x = np.random.rand(2, 3, 4)\n",
        "    result = rearrange_impl(x, '... c -> c ...')\n",
        "    return result.shape\n",
        "\n",
        "def test_singleton_axis(rearrange_impl):\n",
        "    x = np.ones((1, 5, 1))\n",
        "    result = rearrange_impl(x, '1 h 1 -> h')\n",
        "    return result.shape\n",
        "\n",
        "def test_empty_tensor(rearrange_impl):\n",
        "    x = np.random.rand(0, 3, 4)\n",
        "    result = rearrange_impl(x, 'b h w -> w (h b)')\n",
        "    return result.shape\n",
        "\n",
        "def test_complex_numbers(rearrange_impl):\n",
        "    x = np.ones((2, 3), dtype=complex)\n",
        "    result = rearrange_impl(x, 'h w -> w h')\n",
        "    return result.shape\n",
        "\n",
        "def test_non_contiguous(rearrange_impl):\n",
        "    x = np.ones((3, 4, 5))[:, ::2, :]\n",
        "    result = rearrange_impl(x, 'h w c -> c (w h)')\n",
        "    return result.shape\n",
        "\n",
        "def test_large_dims(rearrange_impl):\n",
        "    x = np.random.rand(10, 20, 30)\n",
        "    result = rearrange_impl(x, 'a b c -> (a b) c')\n",
        "    return result.shape\n",
        "\n",
        "def test_full_flatten(rearrange_impl):\n",
        "    x = np.random.rand(2, 3, 4)\n",
        "    result = rearrange_impl(x, 'a b c -> (a b c)')\n",
        "    return result.shape\n",
        "\n",
        "def test_add_singleton(rearrange_impl):\n",
        "    x = np.ones((2, 3))\n",
        "    result = rearrange_impl(x, 'h w -> h w 1')\n",
        "    return result.shape\n",
        "\n",
        "def test_asymmetric(rearrange_impl):\n",
        "    x = np.ones((3, 5, 7))\n",
        "    result = rearrange_impl(x, 'a b c -> a (b c)')\n",
        "    return result.shape\n",
        "\n",
        "def test_no_op(rearrange_impl):\n",
        "    x = np.random.rand(5, 6)\n",
        "    result = rearrange_impl(x, 'h w -> h w')\n",
        "    return result.shape\n",
        "\n",
        "def test_very_high_dim(rearrange_impl):\n",
        "    x = np.random.rand(2, 3, 4, 5, 6, 7)\n",
        "    result = rearrange_impl(x, 'a b c d e f -> f (e d c b a)')\n",
        "    return result.shape\n",
        "\n",
        "test_functions = [\n",
        "    test_basic_group_split,\n",
        "    test_ellipsis_with_group,\n",
        "    test_high_dimensional,\n",
        "    test_fully_specified,\n",
        "    test_ellipsis_basic,\n",
        "    test_singleton_axis,\n",
        "    test_empty_tensor,\n",
        "    test_complex_numbers,\n",
        "    test_non_contiguous,\n",
        "    test_large_dims,\n",
        "    test_full_flatten,\n",
        "    test_add_singleton,\n",
        "    test_asymmetric,\n",
        "    test_no_op,\n",
        "    test_very_high_dim\n",
        "]\n",
        "\n",
        "results = []\n",
        "for test_func in test_functions:\n",
        "    einops_result = test_func(einops_rearrange)\n",
        "    custom_result = test_func(custom_rearrange)\n",
        "    results.append([\n",
        "        test_func.__name__,\n",
        "        str(einops_result),\n",
        "        str(custom_result)\n",
        "    ])\n",
        "\n",
        "headers = [\"Test Case\", \"einops_rearrange Result\", \"custom_rearrange Result\"]\n",
        "print(tabulate(results, headers=headers, tablefmt=\"pipe\"))"
      ],
      "metadata": {
        "colab": {
          "base_uri": "https://localhost:8080/"
        },
        "id": "2j0VgiuRoc96",
        "outputId": "83e2411a-8c59-4116-f9ea-779bf2da6c9d"
      },
      "execution_count": 12,
      "outputs": [
        {
          "output_type": "stream",
          "name": "stdout",
          "text": [
            "| Test Case                | einops_rearrange Result   | custom_rearrange Result   |\n",
            "|:-------------------------|:--------------------------|:--------------------------|\n",
            "| test_basic_group_split   | (3, 4, 10)                | (3, 4, 10)                |\n",
            "| test_ellipsis_with_group | (2, 3, 4, 10)             | (2, 3, 4, 10)             |\n",
            "| test_high_dimensional    | (6, 120)                  | (6, 120)                  |\n",
            "| test_fully_specified     | (3, 4, 10)                | (3, 4, 10)                |\n",
            "| test_ellipsis_basic      | (4, 2, 3)                 | (4, 2, 3)                 |\n",
            "| test_singleton_axis      | (5,)                      | (5,)                      |\n",
            "| test_empty_tensor        | (4, 0)                    | (4, 0)                    |\n",
            "| test_complex_numbers     | (3, 2)                    | (3, 2)                    |\n",
            "| test_non_contiguous      | (5, 6)                    | (5, 6)                    |\n",
            "| test_large_dims          | (200, 30)                 | (200, 30)                 |\n",
            "| test_full_flatten        | (24,)                     | (24,)                     |\n",
            "| test_add_singleton       | (2, 3, 1)                 | (2, 3, 1)                 |\n",
            "| test_asymmetric          | (3, 35)                   | (3, 35)                   |\n",
            "| test_no_op               | (5, 6)                    | (5, 6)                    |\n",
            "| test_very_high_dim       | (7, 720)                  | (7, 720)                  |\n"
          ]
        }
      ]
    },
    {
      "cell_type": "code",
      "source": [
        "def test1(var):\n",
        "  x = np.random.rand(3, 4)\n",
        "  result = var(x, 'h w -> w h')\n",
        "  print(result.shape)\n",
        "\n",
        "test1(einops_rearrange)\n",
        "test1(custom_rearrange)"
      ],
      "metadata": {
        "colab": {
          "base_uri": "https://localhost:8080/"
        },
        "id": "za5jLDUSonMs",
        "outputId": "3615aa49-b3e5-4a87-c61f-e3a3966d8701"
      },
      "execution_count": 13,
      "outputs": [
        {
          "output_type": "stream",
          "name": "stdout",
          "text": [
            "(4, 3)\n",
            "(4, 3)\n"
          ]
        }
      ]
    },
    {
      "cell_type": "code",
      "source": [
        "#this will fail so error fall back\n",
        "\n",
        "def test2(var):\n",
        "    x = np.random.rand(3, 1, 5)\n",
        "    result = var(x, 'a 1 c -> a b c', b=4)\n",
        "    return result.shape\n",
        "\n",
        "results = {\n",
        "    \"einops_rearrange\": {\"status\": None, \"output\": None},\n",
        "    \"custom_rearrange\": {\"status\": None, \"output\": None}\n",
        "}\n",
        "\n",
        "print(\"Running einops_rearrange:\")\n",
        "try:\n",
        "    shape = test2(einops_rearrange)\n",
        "    print(f\"Output shape: {shape}\")\n",
        "    results[\"einops_rearrange\"] = {\"status\": \"Success\", \"output\": str(shape)}\n",
        "except Exception as e:\n",
        "    results[\"einops_rearrange\"] = {\"status\": \"Error\", \"output\": str(e)}\n",
        "\n",
        "print(\"\\nRunning custom_rearrange:\")\n",
        "try:\n",
        "    shape = test2(custom_rearrange)\n",
        "    print(f\"Output shape: {shape}\")\n",
        "    results[\"custom_rearrange\"] = {\"status\": \"Success\", \"output\": str(shape)}\n",
        "except Exception as e:\n",
        "    results[\"custom_rearrange\"] = {\"status\": \"Error\", \"output\": str(e)}\n",
        "\n",
        "print(\"\\n=== Test Results ===\")\n",
        "\"\"\"\n",
        "table = [\n",
        "    [\"Function\", \"Status\", \"Output\"],\n",
        "    [\"einops_rearrange\", results[\"einops_rearrange\"][\"status\"], results[\"einops_rearrange\"][\"output\"]],\n",
        "    [\"custom_rearrange\", results[\"custom_rearrange\"][\"status\"], results[\"custom_rearrange\"][\"output\"]]\n",
        "]\n",
        "print(tabulate(table, headers=\"firstrow\", tablefmt=\"grid\"))\n",
        "\"\"\"\n",
        "\n",
        "print(\"+-------------------+---------+----------------------------+\")\n",
        "print(\"| Function          | Status  | Output                     |\")\n",
        "print(\"+-------------------+---------+----------------------------+\")\n",
        "print(f\"| einops_rearrange  | {results['einops_rearrange']['status']:<7} | {results['einops_rearrange']['output']:<26} |\")\n",
        "print()\n",
        "print()\n",
        "print()\n",
        "print(f\"| custom_rearrange  | {results['custom_rearrange']['status']:<7} | {results['custom_rearrange']['output']:<26} |\")\n",
        "print(\"+-------------------+---------+----------------------------+\")"
      ],
      "metadata": {
        "colab": {
          "base_uri": "https://localhost:8080/"
        },
        "id": "ZIyLY4Bwp_7m",
        "outputId": "4a7906ab-d2f6-42ce-aa4b-97719f9abc36"
      },
      "execution_count": 14,
      "outputs": [
        {
          "output_type": "stream",
          "name": "stdout",
          "text": [
            "Running einops_rearrange:\n",
            "\n",
            "Running custom_rearrange:\n",
            "\n",
            "=== Test Results ===\n",
            "+-------------------+---------+----------------------------+\n",
            "| Function          | Status  | Output                     |\n",
            "+-------------------+---------+----------------------------+\n",
            "| einops_rearrange  | Error   |  Error while processing rearrange-reduction pattern \"a 1 c -> a b c\".\n",
            " Input tensor shape: (3, 1, 5). Additional info: {'b': 4}.\n",
            " Identifiers only on one side of expression (should be on both): {'b'} |\n",
            "\n",
            "\n",
            "\n",
            "| custom_rearrange  | Error   | Shape mismatch: total size 15 != expected 60 |\n",
            "+-------------------+---------+----------------------------+\n"
          ]
        }
      ]
    },
    {
      "cell_type": "code",
      "source": [
        "def test1(var):\n",
        "  x = np.random.rand(3, 4, 5)\n",
        "  result = var(x, 'a b c -> (a b) c')\n",
        "  print(result.shape)\n",
        "\n",
        "test1(einops_rearrange)\n",
        "test1(custom_rearrange)"
      ],
      "metadata": {
        "colab": {
          "base_uri": "https://localhost:8080/"
        },
        "id": "2W9pFQXk2oIY",
        "outputId": "65bc31f2-7145-4aac-bfc5-91dd0df82ac3"
      },
      "execution_count": 15,
      "outputs": [
        {
          "output_type": "stream",
          "name": "stdout",
          "text": [
            "(12, 5)\n",
            "(12, 5)\n"
          ]
        }
      ]
    },
    {
      "cell_type": "code",
      "source": [
        "def test4(var):\n",
        "  x = np.random.rand(12, 10)\n",
        "  result = var(x, '(h w) c -> h w c', h=3)\n",
        "  print(result.shape)\n",
        "\n",
        "test4(einops_rearrange)\n",
        "test4(custom_rearrange)"
      ],
      "metadata": {
        "colab": {
          "base_uri": "https://localhost:8080/"
        },
        "id": "Kc7yHQfVw9ax",
        "outputId": "ed4e65e9-6f2d-492a-b1be-b484a2457ce5"
      },
      "execution_count": 16,
      "outputs": [
        {
          "output_type": "stream",
          "name": "stdout",
          "text": [
            "(3, 4, 10)\n",
            "(3, 4, 10)\n"
          ]
        }
      ]
    },
    {
      "cell_type": "code",
      "source": [
        "def test5(var):\n",
        "  x = np.random.rand(2, 3, 4, 5)\n",
        "  result = var(x, '... h w -> ... (h w)')\n",
        "  print(result.shape)\n",
        "\n",
        "test5(einops_rearrange)\n",
        "test5(custom_rearrange)"
      ],
      "metadata": {
        "colab": {
          "base_uri": "https://localhost:8080/"
        },
        "id": "9_iy447Tw9wI",
        "outputId": "54a12296-5d2b-4399-f7aa-fb42ba12e9a3"
      },
      "execution_count": 17,
      "outputs": [
        {
          "output_type": "stream",
          "name": "stdout",
          "text": [
            "(2, 3, 20)\n",
            "(2, 3, 20)\n"
          ]
        }
      ]
    },
    {
      "cell_type": "code",
      "source": [
        "def test6(var):\n",
        "  x = np.random.rand(2, 3, 4, 5)\n",
        "  result = var(x, 'a b (c1 c2) d -> c2 c1 a b d', c2 = 2)\n",
        "  print(result.shape)\n",
        "\n",
        "test5(einops_rearrange)\n",
        "test5(custom_rearrange)"
      ],
      "metadata": {
        "id": "8UWo9vR5Kyby",
        "colab": {
          "base_uri": "https://localhost:8080/"
        },
        "outputId": "ceb0e59b-dde9-4f4c-fe4a-96a64eb372cd"
      },
      "execution_count": 18,
      "outputs": [
        {
          "output_type": "stream",
          "name": "stdout",
          "text": [
            "(2, 3, 20)\n",
            "(2, 3, 20)\n"
          ]
        }
      ]
    },
    {
      "cell_type": "code",
      "source": [],
      "metadata": {
        "id": "mvHC-EijOlD7"
      },
      "execution_count": 18,
      "outputs": []
    }
  ]
}