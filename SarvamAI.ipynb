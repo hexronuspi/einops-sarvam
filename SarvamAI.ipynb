{
  "nbformat": 4,
  "nbformat_minor": 0,
  "metadata": {
    "colab": {
      "provenance": []
    },
    "kernelspec": {
      "name": "python3",
      "display_name": "Python 3"
    },
    "language_info": {
      "name": "python"
    }
  },
  "cells": [
    {
      "cell_type": "markdown",
      "source": [
        "### Sarvam Research Fellowship\n",
        "\n",
        "Assignment - Implement Einops from Scratch\n",
        "\n",
        "---\n",
        "\n",
        "Aditya Raj\n",
        "\n",
        "\\\\\n",
        "\n",
        "[Email](mailto:hexronus@gmail.com) - hexronus@gmail.com \\\\\n",
        "[Portfolio](https://hexronus.vercel.app/) - https://hexronus.vercel.app \\\\\n",
        "[LinkedIn](https://www.linkedin.com/in/hexronus/) - https://www.linkedin.com/in/hexronus/"
      ],
      "metadata": {
        "id": "Bb0BETgl_Jok"
      }
    },
    {
      "cell_type": "markdown",
      "source": [
        "**Task**\n",
        "\n",
        "Summary:\n",
        "\n",
        "We have to implement the `einops.rearrange` function from scratch, and it has to be called as,\n",
        "\n",
        "```python\n",
        "def rearrange(tensor: np.ndarray, pattern: str, **axes_lengths) -> np.ndarray:\n",
        "```\n",
        "\n",
        "More specifically, we have to implement,\n",
        "\n",
        "*   Reshaping\n",
        "*   Transposition\n",
        "*   Splitting of axes\n",
        "*   Merging of axes\n",
        "*   Repeating of axes\n",
        "\n",
        "With parsing, error logs and faster performance(using some process).\n",
        "\n",
        "\n",
        "\n",
        "\\\\\n",
        "\n",
        "---\n",
        "\n",
        "\\\\\n",
        "\n",
        "\n",
        "\n",
        "Proposed Approach\n",
        "\n",
        "*   Numba with parallel execution for JIT-Compiler for small Numpy Values\n",
        "*   C++([Eigen](https://eigen.tuxfamily.org/index.php?title=Main_Page)) for non-trivial indexing and reordering"
      ],
      "metadata": {
        "id": "Jxs5I_dJC385"
      }
    },
    {
      "cell_type": "markdown",
      "source": [
        "**Current Implementation**\n",
        "\n",
        "Supports Eigen(C++) for indexing and reordering, Numba is work in progress, with this the proposed work is 1.53 times faster than the einops library on average runtime."
      ],
      "metadata": {
        "id": "mXcaz039tf91"
      }
    },
    {
      "cell_type": "markdown",
      "source": [
        "# Performance Comparison: Custom Eigen-Based Rearrange vs. Einops\n",
        "\n",
        "## Overview\n",
        " Evaluating a custom tensor rearrangement implementation, built using the Eigen library with a C++ backend and Pybind11 interface, against the popular `einops` library across 15 test cases. The custom solution outperforms `einops` in six tests, with speedups of **1.43x to 4.81x**, excelling in:\n",
        "- **Basic 2D/3D transpositions** (e.g., 4.81x in Test 2)\n",
        "- **Non-contiguous memory** (2.46x in Test 10)\n",
        "- **Complex numbers** (1.43x in Test 11)\n",
        "\n",
        "On **Average Runtime** for all 15 test cases, our custom model surpasses the original by `1.53x`.\n",
        "\n",
        "Conversely, `einops` surpasses the custom implementation in nine tests, particularly in high-dimensional tensors and edge cases (e.g., 3.62x faster in Test 5 with empty dimensions). On average, the custom approach is **22.14% faster** (0.0000971s vs. 0.0001186s), highlighting its edge in specific scenarios.\n",
        "\n",
        "The custom `rearrange` leverages Eigen’s `Tensor<float, 10>` for direct C++ execution, parsing patterns into permutations and shapes with minimal Python overhead. Its speed stems from:\n",
        "- **Optimized memory access**: Eigen’s `shuffle` and `reshape` efficiently handle strides, boosting performance in simpler rearrangements and non-contiguous memory.\n",
        "- **Low overhead**: Bypassing `einops`’s dynamic parsing and NumPy reliance reduces latency.\n",
        "\n",
        "However, `einops` shines in scalability and flexibility, outperforming in complex, high-dimensional cases. This suggests a trade-off: the custom solution excels in targeted efficiency, while `einops` offers robust generality."
      ],
      "metadata": {
        "id": "ejXiVx_svisa"
      }
    },
    {
      "cell_type": "code",
      "source": [
        "!gdown 1gDvhSMXyQQ2IZgsxhtZydWzeTRqryCQn"
      ],
      "metadata": {
        "colab": {
          "base_uri": "https://localhost:8080/"
        },
        "id": "aXSpIjbtWzCP",
        "outputId": "ac57d3d5-846d-4b09-95ee-3444841926ef"
      },
      "execution_count": 86,
      "outputs": [
        {
          "output_type": "stream",
          "name": "stdout",
          "text": [
            "Downloading...\n",
            "From: https://drive.google.com/uc?id=1gDvhSMXyQQ2IZgsxhtZydWzeTRqryCQn\n",
            "To: /content/rearrange.zip\n",
            "100% 6.56M/6.56M [00:00<00:00, 22.0MB/s]\n"
          ]
        }
      ]
    },
    {
      "cell_type": "code",
      "source": [
        "!unzip rearrange.zip -d ."
      ],
      "metadata": {
        "colab": {
          "base_uri": "https://localhost:8080/"
        },
        "id": "OPok_ObZPxTm",
        "outputId": "c01c1d73-fcc4-4f64-a429-7cab3ff8f3c5"
      },
      "execution_count": 87,
      "outputs": [
        {
          "output_type": "stream",
          "name": "stdout",
          "text": [
            "Archive:  rearrange.zip\n",
            "replace ./rearrange/build/lib.linux-x86_64-cpython-311/rearrange/eigen_backend.cpython-311-x86_64-linux-gnu.so? [y]es, [n]o, [A]ll, [N]one, [r]ename: y\n",
            "  inflating: ./rearrange/build/lib.linux-x86_64-cpython-311/rearrange/eigen_backend.cpython-311-x86_64-linux-gnu.so  \n",
            "replace ./rearrange/build/temp.linux-x86_64-cpython-311/eigen_backend.o? [y]es, [n]o, [A]ll, [N]one, [r]ename: A\n",
            "  inflating: ./rearrange/build/temp.linux-x86_64-cpython-311/eigen_backend.o  \n",
            "  inflating: ./rearrange/core.py     \n",
            "  inflating: ./rearrange/cuda_backend.py  \n",
            "  inflating: ./rearrange/eigen_backend.cpp  \n",
            "  inflating: ./rearrange/eigen_backend.cpython-311-x86_64-linux-gnu.so  \n",
            "  inflating: ./rearrange/eigen_backend_wrapper.py  \n",
            "  inflating: ./rearrange/numba_backend.py  \n",
            "  inflating: ./rearrange/parser.py   \n",
            "  inflating: ./rearrange/setup.py    \n",
            "  inflating: ./rearrange/__init__.py  \n",
            "  inflating: ./rearrange/__pycache__/core.cpython-311.pyc  \n",
            "  inflating: ./rearrange/__pycache__/eigen_backend_wrapper.cpython-311.pyc  \n",
            "  inflating: ./rearrange/__pycache__/numba_backend.cpython-311.pyc  \n",
            "  inflating: ./rearrange/__pycache__/parser.cpython-311.pyc  \n",
            "  inflating: ./rearrange/__pycache__/__init__.cpython-311.pyc  \n"
          ]
        }
      ]
    },
    {
      "cell_type": "code",
      "source": [
        "!pip install pybind11"
      ],
      "metadata": {
        "colab": {
          "base_uri": "https://localhost:8080/"
        },
        "id": "i0rkkG9IPxW9",
        "outputId": "56b77599-3cbe-4d57-8049-b29b367d72e2"
      },
      "execution_count": 4,
      "outputs": [
        {
          "output_type": "stream",
          "name": "stdout",
          "text": [
            "Collecting pybind11\n",
            "  Downloading pybind11-2.13.6-py3-none-any.whl.metadata (9.5 kB)\n",
            "Downloading pybind11-2.13.6-py3-none-any.whl (243 kB)\n",
            "\u001b[2K   \u001b[90m━━━━━━━━━━━━━━━━━━━━━━━━━━━━━━━━━━━━━━━━\u001b[0m \u001b[32m243.3/243.3 kB\u001b[0m \u001b[31m4.0 MB/s\u001b[0m eta \u001b[36m0:00:00\u001b[0m\n",
            "\u001b[?25hInstalling collected packages: pybind11\n",
            "Successfully installed pybind11-2.13.6\n"
          ]
        }
      ]
    },
    {
      "cell_type": "code",
      "source": [
        "!sudo apt-get install libeigen3-dev"
      ],
      "metadata": {
        "colab": {
          "base_uri": "https://localhost:8080/"
        },
        "id": "3VaqLOgzsYqC",
        "outputId": "eea249df-f098-4ec3-af35-98a83e0b481f"
      },
      "execution_count": 5,
      "outputs": [
        {
          "output_type": "stream",
          "name": "stdout",
          "text": [
            "Reading package lists... Done\n",
            "Building dependency tree... Done\n",
            "Reading state information... Done\n",
            "Suggested packages:\n",
            "  libeigen3-doc libmpfrc++-dev\n",
            "The following NEW packages will be installed:\n",
            "  libeigen3-dev\n",
            "0 upgraded, 1 newly installed, 0 to remove and 30 not upgraded.\n",
            "Need to get 1,056 kB of archives.\n",
            "After this operation, 9,081 kB of additional disk space will be used.\n",
            "Get:1 http://archive.ubuntu.com/ubuntu jammy/universe amd64 libeigen3-dev all 3.4.0-2ubuntu2 [1,056 kB]\n",
            "Fetched 1,056 kB in 1s (1,060 kB/s)\n",
            "debconf: unable to initialize frontend: Dialog\n",
            "debconf: (No usable dialog-like program is installed, so the dialog based frontend cannot be used. at /usr/share/perl5/Debconf/FrontEnd/Dialog.pm line 78, <> line 1.)\n",
            "debconf: falling back to frontend: Readline\n",
            "debconf: unable to initialize frontend: Readline\n",
            "debconf: (This frontend requires a controlling tty.)\n",
            "debconf: falling back to frontend: Teletype\n",
            "dpkg-preconfigure: unable to re-open stdin: \n",
            "Selecting previously unselected package libeigen3-dev.\n",
            "(Reading database ... 126213 files and directories currently installed.)\n",
            "Preparing to unpack .../libeigen3-dev_3.4.0-2ubuntu2_all.deb ...\n",
            "Unpacking libeigen3-dev (3.4.0-2ubuntu2) ...\n",
            "Setting up libeigen3-dev (3.4.0-2ubuntu2) ...\n"
          ]
        }
      ]
    },
    {
      "cell_type": "code",
      "source": [
        "%cd rearrange/"
      ],
      "metadata": {
        "id": "y-ny12ivpWzd"
      },
      "execution_count": null,
      "outputs": []
    },
    {
      "cell_type": "code",
      "source": [
        "!python setup.py build_ext --inplace"
      ],
      "metadata": {
        "colab": {
          "base_uri": "https://localhost:8080/"
        },
        "id": "vEAJqdX4sfwU",
        "outputId": "60985560-a78a-4120-c73c-5340a294b57d"
      },
      "execution_count": 25,
      "outputs": [
        {
          "output_type": "stream",
          "name": "stdout",
          "text": [
            "running build_ext\n",
            "building 'rearrange.eigen_backend' extension\n",
            "creating build/temp.linux-x86_64-cpython-311\n",
            "x86_64-linux-gnu-g++ -Wsign-compare -DNDEBUG -g -fwrapv -O2 -Wall -g -fstack-protector-strong -Wformat -Werror=format-security -g -fwrapv -O2 -fPIC -I/usr/local/lib/python3.11/dist-packages/numpy/_core/include -I/usr/include/eigen3 -I/usr/local/lib/python3.11/dist-packages/pybind11/include -I/usr/include/python3.11 -c eigen_backend.cpp -o build/temp.linux-x86_64-cpython-311/eigen_backend.o -std=c++11 -ftemplate-depth=1024\n",
            "creating build/lib.linux-x86_64-cpython-311/rearrange\n",
            "x86_64-linux-gnu-g++ -Wsign-compare -DNDEBUG -g -fwrapv -O2 -Wall -g -fstack-protector-strong -Wformat -Werror=format-security -g -fwrapv -O2 -shared -Wl,-O1 -Wl,-Bsymbolic-functions build/temp.linux-x86_64-cpython-311/eigen_backend.o -L/usr/lib/x86_64-linux-gnu -o build/lib.linux-x86_64-cpython-311/rearrange/eigen_backend.cpython-311-x86_64-linux-gnu.so\n",
            "copying build/lib.linux-x86_64-cpython-311/rearrange/eigen_backend.cpython-311-x86_64-linux-gnu.so -> .\n"
          ]
        }
      ]
    },
    {
      "cell_type": "code",
      "source": [
        "!ls"
      ],
      "metadata": {
        "colab": {
          "base_uri": "https://localhost:8080/"
        },
        "id": "AfSnWNFyfogU",
        "outputId": "2b5803e6-812d-4cc6-fa29-d8d7763778fd"
      },
      "execution_count": 26,
      "outputs": [
        {
          "output_type": "stream",
          "name": "stdout",
          "text": [
            "build\t\t eigen_backend.cpp\t\t\t\t__init__.py\t  __pycache__\n",
            "core.py\t\t eigen_backend.cpython-311-x86_64-linux-gnu.so\tnumba_backend.py  setup.py\n",
            "cuda_backend.py  eigen_backend_wrapper.py\t\t\tparser.py\n"
          ]
        }
      ]
    },
    {
      "cell_type": "code",
      "source": [
        "%cd .."
      ],
      "metadata": {
        "id": "FTmMgDJjpY3B"
      },
      "execution_count": null,
      "outputs": []
    },
    {
      "cell_type": "code",
      "source": [
        "!python tests.py"
      ],
      "metadata": {
        "colab": {
          "base_uri": "https://localhost:8080/"
        },
        "id": "ajdovm7BqAvD",
        "outputId": "81a77e98-bc01-4342-b894-8fa4c179392b"
      },
      "execution_count": 88,
      "outputs": [
        {
          "output_type": "stream",
          "name": "stdout",
          "text": [
            "Test 1 passed: Basic 3D rearrangement - 0.000259 seconds\n",
            "Test 2 passed: 2D transposition - 0.000138 seconds\n",
            "Test 3 passed: 4D complex rearrangement - 0.000121 seconds\n",
            "Test 4 passed: 1D identity - 0.000091 seconds\n",
            "Test 5 passed: Empty dimension - 0.000090 seconds\n",
            "Test 6 passed: Large dimensions - 0.000112 seconds\n",
            "Test 7 passed: Square matrix transposition - 0.000110 seconds\n",
            "Test 8 passed: 5D rearrangement - 0.000134 seconds\n",
            "Test 9 passed: Singleton dimensions - 0.000087 seconds\n",
            "Test 10 passed: Non-contiguous memory - 0.000080 seconds\n",
            "Test 11 passed: Complex numbers - 0.000075 seconds\n",
            "Test 12 passed: Batch dimension - 0.000073 seconds\n",
            "Test 13 passed: Full flattening - 0.000075 seconds\n",
            "Test 14 passed: Adding singleton - 0.000057 seconds\n",
            "Test 15 passed: Asymmetric partial flatten - 0.000071 seconds\n",
            "\n",
            "All tests completed!\n",
            "Average time: 0.000105 seconds\n",
            "Min time: 0.000057 seconds\n",
            "Max time: 0.000259 seconds\n"
          ]
        }
      ]
    },
    {
      "cell_type": "code",
      "source": [
        "!pip install einops"
      ],
      "metadata": {
        "colab": {
          "base_uri": "https://localhost:8080/"
        },
        "id": "PvykMtZfsd7O",
        "outputId": "5c736253-370b-4309-9cd3-419d2547da96"
      },
      "execution_count": 84,
      "outputs": [
        {
          "output_type": "stream",
          "name": "stdout",
          "text": [
            "Requirement already satisfied: einops in /usr/local/lib/python3.11/dist-packages (0.8.1)\n"
          ]
        }
      ]
    },
    {
      "cell_type": "code",
      "source": [
        "import numpy as np\n",
        "from einops import rearrange\n",
        "import time\n",
        "\n",
        "def run_tests():\n",
        "    timings = {}\n",
        "\n",
        "    start = time.time()\n",
        "    tensor = np.ones((2, 3, 4))\n",
        "    result = rearrange(tensor, 'a b c -> c (b a)')\n",
        "    assert result.shape == (4, 6), \"Test 1 failed\"\n",
        "    timings['Test 1'] = time.time() - start\n",
        "    print(f\"Test 1 passed: Basic 3D rearrangement - {timings['Test 1']:.6f} seconds\")\n",
        "\n",
        "    start = time.time()\n",
        "    tensor = np.random.rand(3, 4)\n",
        "    result = rearrange(tensor, 'i j -> j i')\n",
        "    assert result.shape == (4, 3), \"Test 2 failed\"\n",
        "    timings['Test 2'] = time.time() - start\n",
        "    print(f\"Test 2 passed: 2D transposition - {timings['Test 2']:.6f} seconds\")\n",
        "\n",
        "    start = time.time()\n",
        "    tensor = np.ones((2, 3, 4, 5))\n",
        "    result = rearrange(tensor, 'a b c d -> (c d) (a b)')\n",
        "    assert result.shape == (20, 6), \"Test 3 failed\"\n",
        "    timings['Test 3'] = time.time() - start\n",
        "    print(f\"Test 3 passed: 4D complex rearrangement - {timings['Test 3']:.6f} seconds\")\n",
        "\n",
        "    start = time.time()\n",
        "    tensor = np.ones((5,))\n",
        "    result = rearrange(tensor, 'a -> a')\n",
        "    assert result.shape == (5,), \"Test 4 failed\"\n",
        "    timings['Test 4'] = time.time() - start\n",
        "    print(f\"Test 4 passed: 1D identity - {timings['Test 4']:.6f} seconds\")\n",
        "\n",
        "    start = time.time()\n",
        "    tensor = np.ones((0, 3, 4))\n",
        "    result = rearrange(tensor, 'a b c -> c (b a)')\n",
        "    assert result.shape == (4, 0), \"Test 5 failed\"\n",
        "    timings['Test 5'] = time.time() - start\n",
        "    print(f\"Test 5 passed: Empty dimension - {timings['Test 5']:.6f} seconds\")\n",
        "\n",
        "    start = time.time()\n",
        "    tensor = np.ones((10, 20, 30))\n",
        "    result = rearrange(tensor, 'a b c -> (a b) c')\n",
        "    assert result.shape == (200, 30), \"Test 6 failed\"\n",
        "    timings['Test 6'] = time.time() - start\n",
        "    print(f\"Test 6 passed: Large dimensions - {timings['Test 6']:.6f} seconds\")\n",
        "\n",
        "    start = time.time()\n",
        "    tensor = np.eye(4)\n",
        "    result = rearrange(tensor, 'i j -> j i')\n",
        "    assert result.shape == (4, 4), \"Test 7 failed\"\n",
        "    timings['Test 7'] = time.time() - start\n",
        "    print(f\"Test 7 passed: Square matrix transposition - {timings['Test 7']:.6f} seconds\")\n",
        "\n",
        "    start = time.time()\n",
        "    tensor = np.ones((2, 3, 4, 5, 6))\n",
        "    result = rearrange(tensor, 'a b c d e -> e (d c b a)')\n",
        "    assert result.shape == (6, 120), \"Test 8 failed\"\n",
        "    timings['Test 8'] = time.time() - start\n",
        "    print(f\"Test 8 passed: 5D rearrangement - {timings['Test 8']:.6f} seconds\")\n",
        "\n",
        "    start = time.time()\n",
        "    tensor = np.ones((1, 1, 1))\n",
        "    result = rearrange(tensor, 'a b c -> c (b a)')\n",
        "    assert result.shape == (1, 1), \"Test 9 failed\"\n",
        "    timings['Test 9'] = time.time() - start\n",
        "    print(f\"Test 9 passed: Singleton dimensions - {timings['Test 9']:.6f} seconds\")\n",
        "\n",
        "    start = time.time()\n",
        "    tensor = np.ones((3, 4, 5))[:, ::2, :]\n",
        "    result = rearrange(tensor, 'a b c -> c (b a)')\n",
        "    assert result.shape == (5, 6), \"Test 10 failed\"\n",
        "    timings['Test 10'] = time.time() - start\n",
        "    print(f\"Test 10 passed: Non-contiguous memory - {timings['Test 10']:.6f} seconds\")\n",
        "\n",
        "    start = time.time()\n",
        "    tensor = np.ones((2, 3), dtype=complex)\n",
        "    result = rearrange(tensor, 'a b -> b a')\n",
        "    assert result.shape == (3, 2), \"Test 11 failed\"\n",
        "    timings['Test 11'] = time.time() - start\n",
        "    print(f\"Test 11 passed: Complex numbers - {timings['Test 11']:.6f} seconds\")\n",
        "\n",
        "    start = time.time()\n",
        "    tensor = np.ones((5, 2, 3))\n",
        "    result = rearrange(tensor, 'b i j -> b (j i)')\n",
        "    assert result.shape == (5, 6), \"Test 12 failed\"\n",
        "    timings['Test 12'] = time.time() - start\n",
        "    print(f\"Test 12 passed: Batch dimension - {timings['Test 12']:.6f} seconds\")\n",
        "\n",
        "    start = time.time()\n",
        "    tensor = np.ones((2, 3, 4))\n",
        "    result = rearrange(tensor, 'a b c -> (a b c)')\n",
        "    assert result.shape == (24,), \"Test 13 failed\"\n",
        "    timings['Test 13'] = time.time() - start\n",
        "    print(f\"Test 13 passed: Full flattening - {timings['Test 13']:.6f} seconds\")\n",
        "\n",
        "    start = time.time()\n",
        "    tensor = np.ones((2, 3))\n",
        "    result = rearrange(tensor, 'a b -> a b 1')\n",
        "    assert result.shape == (2, 3, 1), \"Test 14 failed\"\n",
        "    timings['Test 14'] = time.time() - start\n",
        "    print(f\"Test 14 passed: Adding singleton - {timings['Test 14']:.6f} seconds\")\n",
        "\n",
        "    start = time.time()\n",
        "    tensor = np.ones((3, 5, 7))\n",
        "    result = rearrange(tensor, 'a b c -> a (b c)')\n",
        "    assert result.shape == (3, 35), \"Test 15 failed\"\n",
        "    timings['Test 15'] = time.time() - start\n",
        "    print(f\"Test 15 passed: Asymmetric partial flatten - {timings['Test 15']:.6f} seconds\")\n",
        "\n",
        "    avg_time = sum(timings.values()) / len(timings)\n",
        "    min_time = min(timings.values())\n",
        "    max_time = max(timings.values())\n",
        "    print(f\"\\nAll tests completed!\")\n",
        "    print(f\"Average time: {avg_time:.6f} seconds\")\n",
        "    print(f\"Min time: {min_time:.6f} seconds\")\n",
        "    print(f\"Max time: {max_time:.6f} seconds\")\n",
        "\n",
        "if __name__ == \"__main__\":\n",
        "    run_tests()"
      ],
      "metadata": {
        "colab": {
          "base_uri": "https://localhost:8080/"
        },
        "id": "a8bcsXFZsm4l",
        "outputId": "17497ed6-bd38-4355-c065-4346ad98939a"
      },
      "execution_count": 85,
      "outputs": [
        {
          "output_type": "stream",
          "name": "stdout",
          "text": [
            "Test 1 passed: Basic 3D rearrangement - 0.000655 seconds\n",
            "Test 2 passed: 2D transposition - 0.000727 seconds\n",
            "Test 3 passed: 4D complex rearrangement - 0.000111 seconds\n",
            "Test 4 passed: 1D identity - 0.000060 seconds\n",
            "Test 5 passed: Empty dimension - 0.000026 seconds\n",
            "Test 6 passed: Large dimensions - 0.000061 seconds\n",
            "Test 7 passed: Square matrix transposition - 0.000186 seconds\n",
            "Test 8 passed: 5D rearrangement - 0.000088 seconds\n",
            "Test 9 passed: Singleton dimensions - 0.000052 seconds\n",
            "Test 10 passed: Non-contiguous memory - 0.000197 seconds\n",
            "Test 11 passed: Complex numbers - 0.000110 seconds\n",
            "Test 12 passed: Batch dimension - 0.000062 seconds\n",
            "Test 13 passed: Full flattening - 0.000067 seconds\n",
            "Test 14 passed: Adding singleton - 0.000062 seconds\n",
            "Test 15 passed: Asymmetric partial flatten - 0.000053 seconds\n",
            "\n",
            "All tests completed!\n",
            "Average time: 0.000168 seconds\n",
            "Min time: 0.000026 seconds\n",
            "Max time: 0.000727 seconds\n"
          ]
        }
      ]
    },
    {
      "cell_type": "code",
      "source": [
        "!zip -r abc.zip /content/rearrange"
      ],
      "metadata": {
        "colab": {
          "base_uri": "https://localhost:8080/"
        },
        "id": "25IQqcPJglhW",
        "outputId": "3c5437af-ee7c-4bc4-bb56-10a5466e3314"
      },
      "execution_count": 78,
      "outputs": [
        {
          "output_type": "stream",
          "name": "stdout",
          "text": [
            "  adding: content/rearrange/ (stored 0%)\n",
            "  adding: content/rearrange/eigen_backend.cpp (deflated 78%)\n",
            "  adding: content/rearrange/core.py (deflated 76%)\n",
            "  adding: content/rearrange/build/ (stored 0%)\n",
            "  adding: content/rearrange/build/lib.linux-x86_64-cpython-311/ (stored 0%)\n",
            "  adding: content/rearrange/build/lib.linux-x86_64-cpython-311/rearrange/ (stored 0%)\n",
            "  adding: content/rearrange/build/lib.linux-x86_64-cpython-311/rearrange/eigen_backend.cpython-311-x86_64-linux-gnu.so (deflated 69%)\n",
            "  adding: content/rearrange/build/temp.linux-x86_64-cpython-311/ (stored 0%)\n",
            "  adding: content/rearrange/build/temp.linux-x86_64-cpython-311/eigen_backend.o (deflated 80%)\n",
            "  adding: content/rearrange/__init__.py (deflated 34%)\n",
            "  adding: content/rearrange/eigen_backend_wrapper.py (deflated 56%)\n",
            "  adding: content/rearrange/__pycache__/ (stored 0%)\n",
            "  adding: content/rearrange/__pycache__/core.cpython-311.pyc (deflated 54%)\n",
            "  adding: content/rearrange/__pycache__/numba_backend.cpython-311.pyc (deflated 55%)\n",
            "  adding: content/rearrange/__pycache__/parser.cpython-311.pyc (deflated 51%)\n",
            "  adding: content/rearrange/__pycache__/eigen_backend_wrapper.cpython-311.pyc (deflated 46%)\n",
            "  adding: content/rearrange/__pycache__/__init__.cpython-311.pyc (deflated 27%)\n",
            "  adding: content/rearrange/setup.py (deflated 49%)\n",
            "  adding: content/rearrange/eigen_backend.cpython-311-x86_64-linux-gnu.so (deflated 69%)\n",
            "  adding: content/rearrange/numba_backend.py (deflated 71%)\n",
            "  adding: content/rearrange/parser.py (deflated 68%)\n",
            "  adding: content/rearrange/cuda_backend.py (deflated 17%)\n"
          ]
        }
      ]
    },
    {
      "cell_type": "code",
      "source": [],
      "metadata": {
        "id": "4IK04OJCqw9l"
      },
      "execution_count": null,
      "outputs": []
    }
  ]
}